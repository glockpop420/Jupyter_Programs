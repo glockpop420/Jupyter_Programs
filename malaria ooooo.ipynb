{
 "cells": [
  {
   "cell_type": "code",
   "execution_count": 1,
   "id": "2c9f40a8",
   "metadata": {},
   "outputs": [],
   "source": [
    "import pandas as pd"
   ]
  },
  {
   "cell_type": "code",
   "execution_count": 2,
   "id": "1de11baa",
   "metadata": {},
   "outputs": [],
   "source": [
    "df=pd.read_csv(r\"C:\\Users\\prana\\Downloads\\malaria_detection.csv\")"
   ]
  },
  {
   "cell_type": "code",
   "execution_count": 3,
   "id": "2812333b",
   "metadata": {},
   "outputs": [
    {
     "data": {
      "text/html": [
       "<div>\n",
       "<style scoped>\n",
       "    .dataframe tbody tr th:only-of-type {\n",
       "        vertical-align: middle;\n",
       "    }\n",
       "\n",
       "    .dataframe tbody tr th {\n",
       "        vertical-align: top;\n",
       "    }\n",
       "\n",
       "    .dataframe thead th {\n",
       "        text-align: right;\n",
       "    }\n",
       "</style>\n",
       "<table border=\"1\" class=\"dataframe\">\n",
       "  <thead>\n",
       "    <tr style=\"text-align: right;\">\n",
       "      <th></th>\n",
       "      <th>filename</th>\n",
       "      <th>label</th>\n",
       "    </tr>\n",
       "  </thead>\n",
       "  <tbody>\n",
       "    <tr>\n",
       "      <th>0</th>\n",
       "      <td>C50P11thinF_IMG_20150724_114951_cell_148.png</td>\n",
       "      <td>malaria</td>\n",
       "    </tr>\n",
       "    <tr>\n",
       "      <th>1</th>\n",
       "      <td>C112P73ThinF_IMG_20150930_131659_cell_94.png</td>\n",
       "      <td>healthy</td>\n",
       "    </tr>\n",
       "    <tr>\n",
       "      <th>2</th>\n",
       "      <td>C59P20thinF_IMG_20150803_111333_cell_144.png</td>\n",
       "      <td>malaria</td>\n",
       "    </tr>\n",
       "    <tr>\n",
       "      <th>3</th>\n",
       "      <td>C158P119ThinF_IMG_20151115_181136_cell_202.png</td>\n",
       "      <td>malaria</td>\n",
       "    </tr>\n",
       "    <tr>\n",
       "      <th>4</th>\n",
       "      <td>C81P42ThinF_IMG_20150817_120524_cell_190.png</td>\n",
       "      <td>malaria</td>\n",
       "    </tr>\n",
       "    <tr>\n",
       "      <th>...</th>\n",
       "      <td>...</td>\n",
       "      <td>...</td>\n",
       "    </tr>\n",
       "    <tr>\n",
       "      <th>19285</th>\n",
       "      <td>C137P98ThinF_IMG_20151005_162348_cell_2.png</td>\n",
       "      <td>malaria</td>\n",
       "    </tr>\n",
       "    <tr>\n",
       "      <th>19286</th>\n",
       "      <td>C159P120ThinF_IMG_20151115_190421_cell_204.png</td>\n",
       "      <td>malaria</td>\n",
       "    </tr>\n",
       "    <tr>\n",
       "      <th>19287</th>\n",
       "      <td>C7NthinF_IMG_20150611_104609_cell_187.png</td>\n",
       "      <td>healthy</td>\n",
       "    </tr>\n",
       "    <tr>\n",
       "      <th>19288</th>\n",
       "      <td>C182P143NThinF_IMG_20151201_171950_cell_220.png</td>\n",
       "      <td>malaria</td>\n",
       "    </tr>\n",
       "    <tr>\n",
       "      <th>19289</th>\n",
       "      <td>C63P24N_ThinF_IMG_20150818_143544_cell_159.png</td>\n",
       "      <td>healthy</td>\n",
       "    </tr>\n",
       "  </tbody>\n",
       "</table>\n",
       "<p>19290 rows × 2 columns</p>\n",
       "</div>"
      ],
      "text/plain": [
       "                                              filename    label\n",
       "0         C50P11thinF_IMG_20150724_114951_cell_148.png  malaria\n",
       "1         C112P73ThinF_IMG_20150930_131659_cell_94.png  healthy\n",
       "2         C59P20thinF_IMG_20150803_111333_cell_144.png  malaria\n",
       "3       C158P119ThinF_IMG_20151115_181136_cell_202.png  malaria\n",
       "4         C81P42ThinF_IMG_20150817_120524_cell_190.png  malaria\n",
       "...                                                ...      ...\n",
       "19285      C137P98ThinF_IMG_20151005_162348_cell_2.png  malaria\n",
       "19286   C159P120ThinF_IMG_20151115_190421_cell_204.png  malaria\n",
       "19287        C7NthinF_IMG_20150611_104609_cell_187.png  healthy\n",
       "19288  C182P143NThinF_IMG_20151201_171950_cell_220.png  malaria\n",
       "19289   C63P24N_ThinF_IMG_20150818_143544_cell_159.png  healthy\n",
       "\n",
       "[19290 rows x 2 columns]"
      ]
     },
     "execution_count": 3,
     "metadata": {},
     "output_type": "execute_result"
    }
   ],
   "source": [
    "df"
   ]
  },
  {
   "cell_type": "code",
   "execution_count": 4,
   "id": "df8f0ce0",
   "metadata": {},
   "outputs": [],
   "source": [
    "from sklearn.preprocessing import LabelEncoder\n",
    "le=LabelEncoder() "
   ]
  },
  {
   "cell_type": "code",
   "execution_count": 5,
   "id": "3557e146",
   "metadata": {},
   "outputs": [],
   "source": [
    "df['label']=le.fit_transform(df['label'])"
   ]
  },
  {
   "cell_type": "code",
   "execution_count": 6,
   "id": "ec09f9bb",
   "metadata": {},
   "outputs": [
    {
     "data": {
      "text/html": [
       "<div>\n",
       "<style scoped>\n",
       "    .dataframe tbody tr th:only-of-type {\n",
       "        vertical-align: middle;\n",
       "    }\n",
       "\n",
       "    .dataframe tbody tr th {\n",
       "        vertical-align: top;\n",
       "    }\n",
       "\n",
       "    .dataframe thead th {\n",
       "        text-align: right;\n",
       "    }\n",
       "</style>\n",
       "<table border=\"1\" class=\"dataframe\">\n",
       "  <thead>\n",
       "    <tr style=\"text-align: right;\">\n",
       "      <th></th>\n",
       "      <th>filename</th>\n",
       "      <th>label</th>\n",
       "    </tr>\n",
       "  </thead>\n",
       "  <tbody>\n",
       "    <tr>\n",
       "      <th>0</th>\n",
       "      <td>C50P11thinF_IMG_20150724_114951_cell_148.png</td>\n",
       "      <td>1</td>\n",
       "    </tr>\n",
       "    <tr>\n",
       "      <th>1</th>\n",
       "      <td>C112P73ThinF_IMG_20150930_131659_cell_94.png</td>\n",
       "      <td>0</td>\n",
       "    </tr>\n",
       "    <tr>\n",
       "      <th>2</th>\n",
       "      <td>C59P20thinF_IMG_20150803_111333_cell_144.png</td>\n",
       "      <td>1</td>\n",
       "    </tr>\n",
       "    <tr>\n",
       "      <th>3</th>\n",
       "      <td>C158P119ThinF_IMG_20151115_181136_cell_202.png</td>\n",
       "      <td>1</td>\n",
       "    </tr>\n",
       "    <tr>\n",
       "      <th>4</th>\n",
       "      <td>C81P42ThinF_IMG_20150817_120524_cell_190.png</td>\n",
       "      <td>1</td>\n",
       "    </tr>\n",
       "    <tr>\n",
       "      <th>...</th>\n",
       "      <td>...</td>\n",
       "      <td>...</td>\n",
       "    </tr>\n",
       "    <tr>\n",
       "      <th>19285</th>\n",
       "      <td>C137P98ThinF_IMG_20151005_162348_cell_2.png</td>\n",
       "      <td>1</td>\n",
       "    </tr>\n",
       "    <tr>\n",
       "      <th>19286</th>\n",
       "      <td>C159P120ThinF_IMG_20151115_190421_cell_204.png</td>\n",
       "      <td>1</td>\n",
       "    </tr>\n",
       "    <tr>\n",
       "      <th>19287</th>\n",
       "      <td>C7NthinF_IMG_20150611_104609_cell_187.png</td>\n",
       "      <td>0</td>\n",
       "    </tr>\n",
       "    <tr>\n",
       "      <th>19288</th>\n",
       "      <td>C182P143NThinF_IMG_20151201_171950_cell_220.png</td>\n",
       "      <td>1</td>\n",
       "    </tr>\n",
       "    <tr>\n",
       "      <th>19289</th>\n",
       "      <td>C63P24N_ThinF_IMG_20150818_143544_cell_159.png</td>\n",
       "      <td>0</td>\n",
       "    </tr>\n",
       "  </tbody>\n",
       "</table>\n",
       "<p>19290 rows × 2 columns</p>\n",
       "</div>"
      ],
      "text/plain": [
       "                                              filename  label\n",
       "0         C50P11thinF_IMG_20150724_114951_cell_148.png      1\n",
       "1         C112P73ThinF_IMG_20150930_131659_cell_94.png      0\n",
       "2         C59P20thinF_IMG_20150803_111333_cell_144.png      1\n",
       "3       C158P119ThinF_IMG_20151115_181136_cell_202.png      1\n",
       "4         C81P42ThinF_IMG_20150817_120524_cell_190.png      1\n",
       "...                                                ...    ...\n",
       "19285      C137P98ThinF_IMG_20151005_162348_cell_2.png      1\n",
       "19286   C159P120ThinF_IMG_20151115_190421_cell_204.png      1\n",
       "19287        C7NthinF_IMG_20150611_104609_cell_187.png      0\n",
       "19288  C182P143NThinF_IMG_20151201_171950_cell_220.png      1\n",
       "19289   C63P24N_ThinF_IMG_20150818_143544_cell_159.png      0\n",
       "\n",
       "[19290 rows x 2 columns]"
      ]
     },
     "execution_count": 6,
     "metadata": {},
     "output_type": "execute_result"
    }
   ],
   "source": [
    "df"
   ]
  },
  {
   "cell_type": "code",
   "execution_count": 7,
   "id": "515faded",
   "metadata": {},
   "outputs": [],
   "source": [
    "from sklearn.model_selection import train_test_split as tts\n",
    "train_f,test_f,train_l,test_l=tts(df['filename'],df['label'],test_size=0.2,random_state=20)"
   ]
  },
  {
   "cell_type": "code",
   "execution_count": 8,
   "id": "6b264f20",
   "metadata": {},
   "outputs": [
    {
     "data": {
      "text/plain": [
       "(15432,)"
      ]
     },
     "execution_count": 8,
     "metadata": {},
     "output_type": "execute_result"
    }
   ],
   "source": [
    "train_f.shape"
   ]
  },
  {
   "cell_type": "code",
   "execution_count": 9,
   "id": "235c4972",
   "metadata": {},
   "outputs": [
    {
     "data": {
      "text/plain": [
       "(3858,)"
      ]
     },
     "execution_count": 9,
     "metadata": {},
     "output_type": "execute_result"
    }
   ],
   "source": [
    "test_f.shape"
   ]
  },
  {
   "cell_type": "code",
   "execution_count": 10,
   "id": "0a088bf4",
   "metadata": {},
   "outputs": [],
   "source": [
    "from skimage.io import imread,imshow"
   ]
  },
  {
   "cell_type": "code",
   "execution_count": 11,
   "id": "8e9ddde2",
   "metadata": {},
   "outputs": [],
   "source": [
    "from skimage.transform import resize"
   ]
  },
  {
   "cell_type": "markdown",
   "id": "35d4f88b",
   "metadata": {},
   "source": [
    "## Reading a random image"
   ]
  },
  {
   "cell_type": "code",
   "execution_count": 12,
   "id": "22afeee0",
   "metadata": {},
   "outputs": [],
   "source": [
    "import os\n",
    "base_path=os.path.join(r\"C:\\Users\\prana\\Downloads\\cell_images\\cell_images\")"
   ]
  },
  {
   "cell_type": "code",
   "execution_count": 13,
   "id": "28cde0b3",
   "metadata": {},
   "outputs": [],
   "source": [
    "from random import randint\n",
    "rm=randint(0,15432)\n",
    "img=imread(os.path.join(base_path,train_f.iloc[rm]))"
   ]
  },
  {
   "cell_type": "code",
   "execution_count": 14,
   "id": "11467d64",
   "metadata": {},
   "outputs": [
    {
     "data": {
      "text/plain": [
       "<matplotlib.image.AxesImage at 0x1be7a0e90a0>"
      ]
     },
     "execution_count": 14,
     "metadata": {},
     "output_type": "execute_result"
    },
    {
     "data": {
      "image/png": "[encoded data removed]",
      "text/plain": [
       "<Figure size 432x288 with 1 Axes>"
      ]
     },
     "metadata": {
      "needs_background": "light"
     },
     "output_type": "display_data"
    }
   ],
   "source": [
    "imshow(img)"
   ]
  },
  {
   "cell_type": "code",
   "execution_count": 15,
   "id": "55db1569",
   "metadata": {},
   "outputs": [
    {
     "data": {
      "text/plain": [
       "1"
      ]
     },
     "execution_count": 15,
     "metadata": {},
     "output_type": "execute_result"
    }
   ],
   "source": [
    "df[\"label\"][rm]"
   ]
  },
  {
   "cell_type": "markdown",
   "id": "ac85eaf5",
   "metadata": {},
   "source": [
    "# Creating Hog Features"
   ]
  },
  {
   "cell_type": "code",
   "execution_count": 29,
   "id": "e48392a8",
   "metadata": {},
   "outputs": [],
   "source": [
    "from skimage.feature import hog\n",
    "train_features=[]\n",
    "for i in train_f:\n",
    "    image=imread(os.path.join(base_path,i))\n",
    "    image=resize(image,(128,64))\n",
    "    features,hog_image=hog(image,orientations=9,pixels_per_cell=(8,8),cells_per_block=(2,2),visualize=True,multichannel=True)\n",
    "    train_features.append(features)"
   ]
  },
  {
   "cell_type": "code",
   "execution_count": 22,
   "id": "fabbd35e",
   "metadata": {},
   "outputs": [],
   "source": [
    "from skimage.feature import hog\n",
    "test_features=[]\n",
    "for i in test_f:\n",
    "    image=imread(os.path.join(base_path,i))\n",
    "    image=resize(image,(128,64))\n",
    "    features,hog_image=hog(image,orientations=9,pixels_per_cell=(8,8),cells_per_block=(2,2),visualize=True,multichannel=True)\n",
    "    test_features.append(features)"
   ]
  },
  {
   "cell_type": "markdown",
   "id": "27cac058",
   "metadata": {},
   "source": [
    "# Classifiers"
   ]
  },
  {
   "cell_type": "code",
   "execution_count": 40,
   "id": "82601973",
   "metadata": {},
   "outputs": [
    {
     "name": "stderr",
     "output_type": "stream",
     "text": [
      "C:\\Users\\prana\\anaconda3\\lib\\site-packages\\sklearn\\linear_model\\_logistic.py:763: ConvergenceWarning: lbfgs failed to converge (status=1):\n",
      "STOP: TOTAL NO. of ITERATIONS REACHED LIMIT.\n",
      "\n",
      "Increase the number of iterations (max_iter) or scale the data as shown in:\n",
      "    https://scikit-learn.org/stable/modules/preprocessing.html\n",
      "Please also refer to the documentation for alternative solver options:\n",
      "    https://scikit-learn.org/stable/modules/linear_model.html#logistic-regression\n",
      "  n_iter_i = _check_optimize_result(\n"
     ]
    },
    {
     "name": "stdout",
     "output_type": "stream",
     "text": [
      "Test score = 81.49300155520996 %\n"
     ]
    }
   ],
   "source": [
    "from sklearn.linear_model import LogisticRegression\n",
    "lr=LogisticRegression()\n",
    "lr.fit(train_features,train_l)\n",
    "print(\"Test score =\",100*lr.score(test_features,test_l),\"%\")"
   ]
  },
  {
   "cell_type": "code",
   "execution_count": 55,
   "id": "8b2723b0",
   "metadata": {},
   "outputs": [
    {
     "name": "stdout",
     "output_type": "stream",
     "text": [
      "test score= 67.23691031622603 %\n"
     ]
    }
   ],
   "source": [
    "from sklearn.tree import DecisionTreeClassifier\n",
    "dt=DecisionTreeClassifier()\n",
    "\n",
    "dt.fit(train_features,train_l)\n",
    "print(\"test score=\",100*dt.score(test_features,test_l),\"%\")"
   ]
  },
  {
   "cell_type": "code",
   "execution_count": 56,
   "id": "f546bd39",
   "metadata": {},
   "outputs": [
    {
     "name": "stderr",
     "output_type": "stream",
     "text": [
      "<ipython-input-56-350e6ac4b314>:3: DataConversionWarning: A column-vector y was passed when a 1d array was expected. Please change the shape of y to (n_samples,), for example using ravel().\n",
      "  rf.fit(train_features,train_l)\n"
     ]
    },
    {
     "name": "stdout",
     "output_type": "stream",
     "text": [
      "test score= 81.36340072576465 %\n"
     ]
    }
   ],
   "source": [
    "from sklearn.ensemble import RandomForestClassifier\n",
    "rf=RandomForestClassifier()\n",
    "rf.fit(train_features,train_l)\n",
    "print(\"test score=\",100*rf.score(test_features,test_l),\"%\")"
   ]
  },
  {
   "cell_type": "code",
   "execution_count": 51,
   "id": "ceb1ceec",
   "metadata": {},
   "outputs": [],
   "source": [
    "import numpy as np\n",
    "train_features=np.array(train_features)\n",
    "test_features=np.array(test_features)"
   ]
  },
  {
   "cell_type": "code",
   "execution_count": 52,
   "id": "9c01b230",
   "metadata": {},
   "outputs": [
    {
     "data": {
      "text/html": [
       "<div>\n",
       "<style scoped>\n",
       "    .dataframe tbody tr th:only-of-type {\n",
       "        vertical-align: middle;\n",
       "    }\n",
       "\n",
       "    .dataframe tbody tr th {\n",
       "        vertical-align: top;\n",
       "    }\n",
       "\n",
       "    .dataframe thead th {\n",
       "        text-align: right;\n",
       "    }\n",
       "</style>\n",
       "<table border=\"1\" class=\"dataframe\">\n",
       "  <thead>\n",
       "    <tr style=\"text-align: right;\">\n",
       "      <th></th>\n",
       "      <th>label</th>\n",
       "    </tr>\n",
       "  </thead>\n",
       "  <tbody>\n",
       "    <tr>\n",
       "      <th>8752</th>\n",
       "      <td>0</td>\n",
       "    </tr>\n",
       "    <tr>\n",
       "      <th>9571</th>\n",
       "      <td>1</td>\n",
       "    </tr>\n",
       "    <tr>\n",
       "      <th>6531</th>\n",
       "      <td>0</td>\n",
       "    </tr>\n",
       "    <tr>\n",
       "      <th>3230</th>\n",
       "      <td>0</td>\n",
       "    </tr>\n",
       "    <tr>\n",
       "      <th>16618</th>\n",
       "      <td>1</td>\n",
       "    </tr>\n",
       "    <tr>\n",
       "      <th>...</th>\n",
       "      <td>...</td>\n",
       "    </tr>\n",
       "    <tr>\n",
       "      <th>1607</th>\n",
       "      <td>1</td>\n",
       "    </tr>\n",
       "    <tr>\n",
       "      <th>3915</th>\n",
       "      <td>0</td>\n",
       "    </tr>\n",
       "    <tr>\n",
       "      <th>14729</th>\n",
       "      <td>0</td>\n",
       "    </tr>\n",
       "    <tr>\n",
       "      <th>4367</th>\n",
       "      <td>0</td>\n",
       "    </tr>\n",
       "    <tr>\n",
       "      <th>15715</th>\n",
       "      <td>1</td>\n",
       "    </tr>\n",
       "  </tbody>\n",
       "</table>\n",
       "<p>15432 rows × 1 columns</p>\n",
       "</div>"
      ],
      "text/plain": [
       "       label\n",
       "8752       0\n",
       "9571       1\n",
       "6531       0\n",
       "3230       0\n",
       "16618      1\n",
       "...      ...\n",
       "1607       1\n",
       "3915       0\n",
       "14729      0\n",
       "4367       0\n",
       "15715      1\n",
       "\n",
       "[15432 rows x 1 columns]"
      ]
     },
     "execution_count": 52,
     "metadata": {},
     "output_type": "execute_result"
    }
   ],
   "source": [
    "train_l"
   ]
  },
  {
   "cell_type": "code",
   "execution_count": 61,
   "id": "e020cb2e",
   "metadata": {},
   "outputs": [
    {
     "name": "stderr",
     "output_type": "stream",
     "text": [
      "C:\\Users\\prana\\anaconda3\\lib\\site-packages\\xgboost\\sklearn.py:1146: UserWarning: The use of label encoder in XGBClassifier is deprecated and will be removed in a future release. To remove this warning, do the following: 1) Pass option use_label_encoder=False when constructing XGBClassifier object; and 2) Encode your labels (y) as integers starting with 0, i.e. 0, 1, 2, ..., [num_class - 1].\n",
      "  warnings.warn(label_encoder_deprecation_msg, UserWarning)\n",
      "C:\\Users\\prana\\anaconda3\\lib\\site-packages\\sklearn\\utils\\validation.py:63: DataConversionWarning: A column-vector y was passed when a 1d array was expected. Please change the shape of y to (n_samples, ), for example using ravel().\n",
      "  return f(*args, **kwargs)\n"
     ]
    },
    {
     "name": "stdout",
     "output_type": "stream",
     "text": [
      "[12:42:15] WARNING: C:/Users/Administrator/workspace/xgboost-win64_release_1.4.0/src/learner.cc:1095: Starting in XGBoost 1.3.0, the default evaluation metric used with the objective 'binary:logistic' was changed from 'error' to 'logloss'. Explicitly set eval_metric if you'd like to restore the old behavior.\n",
      "test score= 85.12182477967859 %\n"
     ]
    }
   ],
   "source": [
    "from xgboost import XGBClassifier\n",
    "xg=XGBClassifier(max_depth=7)\n",
    "xg.fit(train_features,train_l)\n",
    "print(\"test score=\",100*xg.score(test_features,test_l),\"%\")\n"
   ]
  },
  {
   "cell_type": "code",
   "execution_count": 41,
   "id": "0147ce07",
   "metadata": {},
   "outputs": [
    {
     "name": "stdout",
     "output_type": "stream",
     "text": [
      "test score= 65.99274235355107 %\n"
     ]
    }
   ],
   "source": [
    "from sklearn.naive_bayes import MultinomialNB\n",
    "nb=MultinomialNB()\n",
    "nb.fit(train_features,train_l)\n",
    "print(\"test score=\",100*nb.score(test_features,test_l),\"%\")"
   ]
  },
  {
   "cell_type": "code",
   "execution_count": 42,
   "id": "b20952da",
   "metadata": {},
   "outputs": [
    {
     "name": "stdout",
     "output_type": "stream",
     "text": [
      "test score= 78.38258164852256 %\n"
     ]
    }
   ],
   "source": [
    "from sklearn.linear_model import PassiveAggressiveClassifier\n",
    "ps=PassiveAggressiveClassifier()\n",
    "ps.fit(train_features,train_l)\n",
    "print(\"test score=\",100*ps.score(test_features,test_l),\"%\")"
   ]
  },
  {
   "cell_type": "markdown",
   "id": "db52f8a4",
   "metadata": {},
   "source": [
    "## Predicting a random picture"
   ]
  },
  {
   "cell_type": "code",
   "execution_count": 59,
   "id": "c9968bf8",
   "metadata": {},
   "outputs": [],
   "source": [
    "img_features=[]\n",
    "img=imread(r\"C:\\Users\\prana\\OneDrive\\college applications\\malaria pic.jpg\")\n",
    "img=resize(image,(128,64))\n",
    "features,hog_image=hog(image,orientations=9,pixels_per_cell=(8,8),cells_per_block=(2,2),visualize=True,multichannel=True)\n",
    "img_features.append(features)"
   ]
  },
  {
   "cell_type": "code",
   "execution_count": 60,
   "id": "632a6ead",
   "metadata": {},
   "outputs": [
    {
     "data": {
      "text/plain": [
       "array([1])"
      ]
     },
     "execution_count": 60,
     "metadata": {},
     "output_type": "execute_result"
    }
   ],
   "source": [
    "lr.predict(img_features)"
   ]
  },
  {
   "cell_type": "code",
   "execution_count": null,
   "id": "5abc3966",
   "metadata": {},
   "outputs": [],
   "source": []
  }
 ],
 "metadata": {
  "kernelspec": {
   "display_name": "Python 3",
   "language": "python",
   "name": "python3"
  },
  "language_info": {
   "codemirror_mode": {
    "name": "ipython",
    "version": 3
   },
   "file_extension": ".py",
   "mimetype": "text/x-python",
   "name": "python",
   "nbconvert_exporter": "python",
   "pygments_lexer": "ipython3",
   "version": "3.8.8"
  }
 },
 "nbformat": 4,
 "nbformat_minor": 5
}
