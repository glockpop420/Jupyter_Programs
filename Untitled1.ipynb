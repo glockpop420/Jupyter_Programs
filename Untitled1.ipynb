{
 "cells": [
  {
   "cell_type": "code",
   "execution_count": 1,
   "id": "a5f2ca59",
   "metadata": {},
   "outputs": [],
   "source": [
    "import pandas as pd"
   ]
  },
  {
   "cell_type": "code",
   "execution_count": 2,
   "id": "fcae05eb",
   "metadata": {},
   "outputs": [],
   "source": [
    "df=pd.read_csv(r\"C:\\Users\\prana\\Downloads\\framingham.csv\")"
   ]
  },
  {
   "cell_type": "code",
   "execution_count": 3,
   "id": "5c2f3fc3",
   "metadata": {},
   "outputs": [
    {
     "data": {
      "text/html": [
       "<div>\n",
       "<style scoped>\n",
       "    .dataframe tbody tr th:only-of-type {\n",
       "        vertical-align: middle;\n",
       "    }\n",
       "\n",
       "    .dataframe tbody tr th {\n",
       "        vertical-align: top;\n",
       "    }\n",
       "\n",
       "    .dataframe thead th {\n",
       "        text-align: right;\n",
       "    }\n",
       "</style>\n",
       "<table border=\"1\" class=\"dataframe\">\n",
       "  <thead>\n",
       "    <tr style=\"text-align: right;\">\n",
       "      <th></th>\n",
       "      <th>male</th>\n",
       "      <th>age</th>\n",
       "      <th>education</th>\n",
       "      <th>currentSmoker</th>\n",
       "      <th>cigsPerDay</th>\n",
       "      <th>BPMeds</th>\n",
       "      <th>prevalentStroke</th>\n",
       "      <th>prevalentHyp</th>\n",
       "      <th>diabetes</th>\n",
       "      <th>totChol</th>\n",
       "      <th>sysBP</th>\n",
       "      <th>diaBP</th>\n",
       "      <th>BMI</th>\n",
       "      <th>heartRate</th>\n",
       "      <th>glucose</th>\n",
       "      <th>TenYearCHD</th>\n",
       "    </tr>\n",
       "  </thead>\n",
       "  <tbody>\n",
       "    <tr>\n",
       "      <th>0</th>\n",
       "      <td>1</td>\n",
       "      <td>39</td>\n",
       "      <td>4.0</td>\n",
       "      <td>0</td>\n",
       "      <td>0.0</td>\n",
       "      <td>0.0</td>\n",
       "      <td>0</td>\n",
       "      <td>0</td>\n",
       "      <td>0</td>\n",
       "      <td>195.0</td>\n",
       "      <td>106.0</td>\n",
       "      <td>70.0</td>\n",
       "      <td>26.97</td>\n",
       "      <td>80.0</td>\n",
       "      <td>77.0</td>\n",
       "      <td>0</td>\n",
       "    </tr>\n",
       "    <tr>\n",
       "      <th>1</th>\n",
       "      <td>0</td>\n",
       "      <td>46</td>\n",
       "      <td>2.0</td>\n",
       "      <td>0</td>\n",
       "      <td>0.0</td>\n",
       "      <td>0.0</td>\n",
       "      <td>0</td>\n",
       "      <td>0</td>\n",
       "      <td>0</td>\n",
       "      <td>250.0</td>\n",
       "      <td>121.0</td>\n",
       "      <td>81.0</td>\n",
       "      <td>28.73</td>\n",
       "      <td>95.0</td>\n",
       "      <td>76.0</td>\n",
       "      <td>0</td>\n",
       "    </tr>\n",
       "    <tr>\n",
       "      <th>2</th>\n",
       "      <td>1</td>\n",
       "      <td>48</td>\n",
       "      <td>1.0</td>\n",
       "      <td>1</td>\n",
       "      <td>20.0</td>\n",
       "      <td>0.0</td>\n",
       "      <td>0</td>\n",
       "      <td>0</td>\n",
       "      <td>0</td>\n",
       "      <td>245.0</td>\n",
       "      <td>127.5</td>\n",
       "      <td>80.0</td>\n",
       "      <td>25.34</td>\n",
       "      <td>75.0</td>\n",
       "      <td>70.0</td>\n",
       "      <td>0</td>\n",
       "    </tr>\n",
       "    <tr>\n",
       "      <th>3</th>\n",
       "      <td>0</td>\n",
       "      <td>61</td>\n",
       "      <td>3.0</td>\n",
       "      <td>1</td>\n",
       "      <td>30.0</td>\n",
       "      <td>0.0</td>\n",
       "      <td>0</td>\n",
       "      <td>1</td>\n",
       "      <td>0</td>\n",
       "      <td>225.0</td>\n",
       "      <td>150.0</td>\n",
       "      <td>95.0</td>\n",
       "      <td>28.58</td>\n",
       "      <td>65.0</td>\n",
       "      <td>103.0</td>\n",
       "      <td>1</td>\n",
       "    </tr>\n",
       "    <tr>\n",
       "      <th>4</th>\n",
       "      <td>0</td>\n",
       "      <td>46</td>\n",
       "      <td>3.0</td>\n",
       "      <td>1</td>\n",
       "      <td>23.0</td>\n",
       "      <td>0.0</td>\n",
       "      <td>0</td>\n",
       "      <td>0</td>\n",
       "      <td>0</td>\n",
       "      <td>285.0</td>\n",
       "      <td>130.0</td>\n",
       "      <td>84.0</td>\n",
       "      <td>23.10</td>\n",
       "      <td>85.0</td>\n",
       "      <td>85.0</td>\n",
       "      <td>0</td>\n",
       "    </tr>\n",
       "    <tr>\n",
       "      <th>...</th>\n",
       "      <td>...</td>\n",
       "      <td>...</td>\n",
       "      <td>...</td>\n",
       "      <td>...</td>\n",
       "      <td>...</td>\n",
       "      <td>...</td>\n",
       "      <td>...</td>\n",
       "      <td>...</td>\n",
       "      <td>...</td>\n",
       "      <td>...</td>\n",
       "      <td>...</td>\n",
       "      <td>...</td>\n",
       "      <td>...</td>\n",
       "      <td>...</td>\n",
       "      <td>...</td>\n",
       "      <td>...</td>\n",
       "    </tr>\n",
       "    <tr>\n",
       "      <th>4235</th>\n",
       "      <td>0</td>\n",
       "      <td>48</td>\n",
       "      <td>2.0</td>\n",
       "      <td>1</td>\n",
       "      <td>20.0</td>\n",
       "      <td>NaN</td>\n",
       "      <td>0</td>\n",
       "      <td>0</td>\n",
       "      <td>0</td>\n",
       "      <td>248.0</td>\n",
       "      <td>131.0</td>\n",
       "      <td>72.0</td>\n",
       "      <td>22.00</td>\n",
       "      <td>84.0</td>\n",
       "      <td>86.0</td>\n",
       "      <td>0</td>\n",
       "    </tr>\n",
       "    <tr>\n",
       "      <th>4236</th>\n",
       "      <td>0</td>\n",
       "      <td>44</td>\n",
       "      <td>1.0</td>\n",
       "      <td>1</td>\n",
       "      <td>15.0</td>\n",
       "      <td>0.0</td>\n",
       "      <td>0</td>\n",
       "      <td>0</td>\n",
       "      <td>0</td>\n",
       "      <td>210.0</td>\n",
       "      <td>126.5</td>\n",
       "      <td>87.0</td>\n",
       "      <td>19.16</td>\n",
       "      <td>86.0</td>\n",
       "      <td>NaN</td>\n",
       "      <td>0</td>\n",
       "    </tr>\n",
       "    <tr>\n",
       "      <th>4237</th>\n",
       "      <td>0</td>\n",
       "      <td>52</td>\n",
       "      <td>2.0</td>\n",
       "      <td>0</td>\n",
       "      <td>0.0</td>\n",
       "      <td>0.0</td>\n",
       "      <td>0</td>\n",
       "      <td>0</td>\n",
       "      <td>0</td>\n",
       "      <td>269.0</td>\n",
       "      <td>133.5</td>\n",
       "      <td>83.0</td>\n",
       "      <td>21.47</td>\n",
       "      <td>80.0</td>\n",
       "      <td>107.0</td>\n",
       "      <td>0</td>\n",
       "    </tr>\n",
       "    <tr>\n",
       "      <th>4238</th>\n",
       "      <td>1</td>\n",
       "      <td>40</td>\n",
       "      <td>3.0</td>\n",
       "      <td>0</td>\n",
       "      <td>0.0</td>\n",
       "      <td>0.0</td>\n",
       "      <td>0</td>\n",
       "      <td>1</td>\n",
       "      <td>0</td>\n",
       "      <td>185.0</td>\n",
       "      <td>141.0</td>\n",
       "      <td>98.0</td>\n",
       "      <td>25.60</td>\n",
       "      <td>67.0</td>\n",
       "      <td>72.0</td>\n",
       "      <td>0</td>\n",
       "    </tr>\n",
       "    <tr>\n",
       "      <th>4239</th>\n",
       "      <td>0</td>\n",
       "      <td>39</td>\n",
       "      <td>3.0</td>\n",
       "      <td>1</td>\n",
       "      <td>30.0</td>\n",
       "      <td>0.0</td>\n",
       "      <td>0</td>\n",
       "      <td>0</td>\n",
       "      <td>0</td>\n",
       "      <td>196.0</td>\n",
       "      <td>133.0</td>\n",
       "      <td>86.0</td>\n",
       "      <td>20.91</td>\n",
       "      <td>85.0</td>\n",
       "      <td>80.0</td>\n",
       "      <td>0</td>\n",
       "    </tr>\n",
       "  </tbody>\n",
       "</table>\n",
       "<p>4240 rows × 16 columns</p>\n",
       "</div>"
      ],
      "text/plain": [
       "      male  age  education  currentSmoker  cigsPerDay  BPMeds  \\\n",
       "0        1   39        4.0              0         0.0     0.0   \n",
       "1        0   46        2.0              0         0.0     0.0   \n",
       "2        1   48        1.0              1        20.0     0.0   \n",
       "3        0   61        3.0              1        30.0     0.0   \n",
       "4        0   46        3.0              1        23.0     0.0   \n",
       "...    ...  ...        ...            ...         ...     ...   \n",
       "4235     0   48        2.0              1        20.0     NaN   \n",
       "4236     0   44        1.0              1        15.0     0.0   \n",
       "4237     0   52        2.0              0         0.0     0.0   \n",
       "4238     1   40        3.0              0         0.0     0.0   \n",
       "4239     0   39        3.0              1        30.0     0.0   \n",
       "\n",
       "      prevalentStroke  prevalentHyp  diabetes  totChol  sysBP  diaBP    BMI  \\\n",
       "0                   0             0         0    195.0  106.0   70.0  26.97   \n",
       "1                   0             0         0    250.0  121.0   81.0  28.73   \n",
       "2                   0             0         0    245.0  127.5   80.0  25.34   \n",
       "3                   0             1         0    225.0  150.0   95.0  28.58   \n",
       "4                   0             0         0    285.0  130.0   84.0  23.10   \n",
       "...               ...           ...       ...      ...    ...    ...    ...   \n",
       "4235                0             0         0    248.0  131.0   72.0  22.00   \n",
       "4236                0             0         0    210.0  126.5   87.0  19.16   \n",
       "4237                0             0         0    269.0  133.5   83.0  21.47   \n",
       "4238                0             1         0    185.0  141.0   98.0  25.60   \n",
       "4239                0             0         0    196.0  133.0   86.0  20.91   \n",
       "\n",
       "      heartRate  glucose  TenYearCHD  \n",
       "0          80.0     77.0           0  \n",
       "1          95.0     76.0           0  \n",
       "2          75.0     70.0           0  \n",
       "3          65.0    103.0           1  \n",
       "4          85.0     85.0           0  \n",
       "...         ...      ...         ...  \n",
       "4235       84.0     86.0           0  \n",
       "4236       86.0      NaN           0  \n",
       "4237       80.0    107.0           0  \n",
       "4238       67.0     72.0           0  \n",
       "4239       85.0     80.0           0  \n",
       "\n",
       "[4240 rows x 16 columns]"
      ]
     },
     "execution_count": 3,
     "metadata": {},
     "output_type": "execute_result"
    }
   ],
   "source": [
    "df"
   ]
  },
  {
   "cell_type": "code",
   "execution_count": 4,
   "id": "6c17b0a4",
   "metadata": {},
   "outputs": [
    {
     "data": {
      "text/plain": [
       "male                 0\n",
       "age                  0\n",
       "education          105\n",
       "currentSmoker        0\n",
       "cigsPerDay          29\n",
       "BPMeds              53\n",
       "prevalentStroke      0\n",
       "prevalentHyp         0\n",
       "diabetes             0\n",
       "totChol             50\n",
       "sysBP                0\n",
       "diaBP                0\n",
       "BMI                 19\n",
       "heartRate            1\n",
       "glucose            388\n",
       "TenYearCHD           0\n",
       "dtype: int64"
      ]
     },
     "execution_count": 4,
     "metadata": {},
     "output_type": "execute_result"
    }
   ],
   "source": [
    "df.isnull().sum()"
   ]
  },
  {
   "cell_type": "code",
   "execution_count": 6,
   "id": "c8b2c19d",
   "metadata": {},
   "outputs": [
    {
     "data": {
      "text/plain": [
       "1.0    1720\n",
       "2.0    1253\n",
       "3.0     689\n",
       "4.0     473\n",
       "Name: education, dtype: int64"
      ]
     },
     "execution_count": 6,
     "metadata": {},
     "output_type": "execute_result"
    }
   ],
   "source": [
    "df[\"education\"].value_counts()"
   ]
  },
  {
   "cell_type": "code",
   "execution_count": 7,
   "id": "212cdfdb",
   "metadata": {},
   "outputs": [
    {
     "data": {
      "text/plain": [
       "0.0     2145\n",
       "20.0     734\n",
       "30.0     218\n",
       "15.0     210\n",
       "10.0     143\n",
       "9.0      130\n",
       "5.0      121\n",
       "3.0      100\n",
       "40.0      80\n",
       "1.0       67\n",
       "43.0      56\n",
       "25.0      55\n",
       "35.0      22\n",
       "6.0       18\n",
       "2.0       18\n",
       "7.0       12\n",
       "60.0      11\n",
       "8.0       11\n",
       "4.0        9\n",
       "18.0       8\n",
       "17.0       7\n",
       "50.0       6\n",
       "23.0       6\n",
       "11.0       5\n",
       "16.0       3\n",
       "12.0       3\n",
       "13.0       3\n",
       "45.0       3\n",
       "19.0       2\n",
       "14.0       2\n",
       "70.0       1\n",
       "38.0       1\n",
       "29.0       1\n",
       "Name: cigsPerDay, dtype: int64"
      ]
     },
     "execution_count": 7,
     "metadata": {},
     "output_type": "execute_result"
    }
   ],
   "source": [
    "df[\"cigsPerDay\"].value_counts()"
   ]
  },
  {
   "cell_type": "code",
   "execution_count": 8,
   "id": "5c9d4fce",
   "metadata": {},
   "outputs": [
    {
     "data": {
      "text/plain": [
       "0.0    4063\n",
       "1.0     124\n",
       "Name: BPMeds, dtype: int64"
      ]
     },
     "execution_count": 8,
     "metadata": {},
     "output_type": "execute_result"
    }
   ],
   "source": [
    "df[\"BPMeds\"].value_counts()"
   ]
  },
  {
   "cell_type": "code",
   "execution_count": 9,
   "id": "bb0eddfd",
   "metadata": {},
   "outputs": [
    {
     "data": {
      "text/plain": [
       "240.0    85\n",
       "220.0    70\n",
       "260.0    62\n",
       "210.0    61\n",
       "232.0    59\n",
       "         ..\n",
       "432.0     1\n",
       "385.0     1\n",
       "363.0     1\n",
       "362.0     1\n",
       "347.0     1\n",
       "Name: totChol, Length: 248, dtype: int64"
      ]
     },
     "execution_count": 9,
     "metadata": {},
     "output_type": "execute_result"
    }
   ],
   "source": [
    "df[\"totChol\"].value_counts()"
   ]
  },
  {
   "cell_type": "code",
   "execution_count": 10,
   "id": "b707a26a",
   "metadata": {},
   "outputs": [
    {
     "data": {
      "text/plain": [
       "22.19    18\n",
       "22.54    18\n",
       "22.91    18\n",
       "23.48    18\n",
       "25.09    16\n",
       "         ..\n",
       "35.78     1\n",
       "19.37     1\n",
       "31.29     1\n",
       "34.91     1\n",
       "39.60     1\n",
       "Name: BMI, Length: 1364, dtype: int64"
      ]
     },
     "execution_count": 10,
     "metadata": {},
     "output_type": "execute_result"
    }
   ],
   "source": [
    "df[\"BMI\"].value_counts()"
   ]
  },
  {
   "cell_type": "code",
   "execution_count": 12,
   "id": "b9651967",
   "metadata": {},
   "outputs": [
    {
     "data": {
      "text/plain": [
       "75.0     563\n",
       "80.0     385\n",
       "70.0     305\n",
       "60.0     231\n",
       "85.0     228\n",
       "        ... \n",
       "47.0       1\n",
       "44.0       1\n",
       "101.0      1\n",
       "143.0      1\n",
       "46.0       1\n",
       "Name: heartRate, Length: 73, dtype: int64"
      ]
     },
     "execution_count": 12,
     "metadata": {},
     "output_type": "execute_result"
    }
   ],
   "source": [
    "df[\"heartRate\"].value_counts()"
   ]
  },
  {
   "cell_type": "code",
   "execution_count": 13,
   "id": "50dfb9c2",
   "metadata": {},
   "outputs": [
    {
     "data": {
      "text/plain": [
       "75.0     193\n",
       "77.0     167\n",
       "73.0     156\n",
       "80.0     153\n",
       "70.0     152\n",
       "        ... \n",
       "244.0      1\n",
       "163.0      1\n",
       "270.0      1\n",
       "155.0      1\n",
       "255.0      1\n",
       "Name: glucose, Length: 143, dtype: int64"
      ]
     },
     "execution_count": 13,
     "metadata": {},
     "output_type": "execute_result"
    }
   ],
   "source": [
    "df[\"glucose\"].value_counts()"
   ]
  },
  {
   "cell_type": "code",
   "execution_count": 15,
   "id": "099737b3",
   "metadata": {},
   "outputs": [],
   "source": [
    "df[\"education\"]=df[\"education\"].fillna(df[\"education\"].mode()[0])\n",
    "df[\"cigsPerDay\"]=df[\"cigsPerDay\"].fillna(df[\"cigsPerDay\"].mode()[0])\n",
    "df[\"BPMeds\"]=df[\"BPMeds\"].fillna(df[\"BPMeds\"].mode()[0])"
   ]
  },
  {
   "cell_type": "code",
   "execution_count": 17,
   "id": "6b4aa84a",
   "metadata": {},
   "outputs": [],
   "source": [
    "df[\"totChol\"]=df[\"totChol\"].fillna(df[\"totChol\"].median())\n",
    "df[\"BMI\"]=df[\"BMI\"].fillna(df[\"BMI\"].median())\n",
    "df[\"heartRate\"]=df[\"heartRate\"].fillna(df[\"heartRate\"].median())\n",
    "df[\"glucose\"]=df[\"glucose\"].fillna(df[\"glucose\"].median())"
   ]
  },
  {
   "cell_type": "code",
   "execution_count": 18,
   "id": "83c83bb6",
   "metadata": {},
   "outputs": [
    {
     "data": {
      "text/plain": [
       "male               0\n",
       "age                0\n",
       "education          0\n",
       "currentSmoker      0\n",
       "cigsPerDay         0\n",
       "BPMeds             0\n",
       "prevalentStroke    0\n",
       "prevalentHyp       0\n",
       "diabetes           0\n",
       "totChol            0\n",
       "sysBP              0\n",
       "diaBP              0\n",
       "BMI                0\n",
       "heartRate          0\n",
       "glucose            0\n",
       "TenYearCHD         0\n",
       "dtype: int64"
      ]
     },
     "execution_count": 18,
     "metadata": {},
     "output_type": "execute_result"
    }
   ],
   "source": [
    "df.isnull().sum()"
   ]
  },
  {
   "cell_type": "code",
   "execution_count": 20,
   "id": "afbc3d17",
   "metadata": {},
   "outputs": [],
   "source": [
    "import seaborn as sb"
   ]
  },
  {
   "cell_type": "code",
   "execution_count": 21,
   "id": "73280d73",
   "metadata": {},
   "outputs": [
    {
     "data": {
      "text/plain": [
       "<AxesSubplot:xlabel='age'>"
      ]
     },
     "execution_count": 21,
     "metadata": {},
     "output_type": "execute_result"
    },
    {
     "data": {
      "image/png": "[encoded data removed]",
      "text/plain": [
       "<Figure size 432x288 with 1 Axes>"
      ]
     },
     "metadata": {
      "needs_background": "light"
     },
     "output_type": "display_data"
    }
   ],
   "source": [
    "sb.boxplot(x=\"age\",data=df)"
   ]
  },
  {
   "cell_type": "code",
   "execution_count": 22,
   "id": "25a65190",
   "metadata": {},
   "outputs": [
    {
     "data": {
      "text/plain": [
       "<AxesSubplot:xlabel='cigsPerDay'>"
      ]
     },
     "execution_count": 22,
     "metadata": {},
     "output_type": "execute_result"
    },
    {
     "data": {
      "image/png": "[encoded data removed]",
      "text/plain": [
       "<Figure size 432x288 with 1 Axes>"
      ]
     },
     "metadata": {
      "needs_background": "light"
     },
     "output_type": "display_data"
    }
   ],
   "source": [
    "sb.boxplot(x=\"cigsPerDay\",data=df)"
   ]
  },
  {
   "cell_type": "code",
   "execution_count": 27,
   "id": "bc727022",
   "metadata": {},
   "outputs": [
    {
     "data": {
      "text/plain": [
       "<AxesSubplot:xlabel='totChol'>"
      ]
     },
     "execution_count": 27,
     "metadata": {},
     "output_type": "execute_result"
    },
    {
     "data": {
      "image/png": "[encoded data removed]",
      "text/plain": [
       "<Figure size 432x288 with 1 Axes>"
      ]
     },
     "metadata": {
      "needs_background": "light"
     },
     "output_type": "display_data"
    }
   ],
   "source": [
    "sb.boxplot(x=\"totChol\",data=df)"
   ]
  },
  {
   "cell_type": "code",
   "execution_count": 26,
   "id": "bc496d15",
   "metadata": {},
   "outputs": [
    {
     "name": "stderr",
     "output_type": "stream",
     "text": [
      "C:\\Users\\prana\\anaconda3\\lib\\site-packages\\pandas\\core\\indexing.py:1637: SettingWithCopyWarning: \n",
      "A value is trying to be set on a copy of a slice from a DataFrame\n",
      "\n",
      "See the caveats in the documentation: https://pandas.pydata.org/pandas-docs/stable/user_guide/indexing.html#returning-a-view-versus-a-copy\n",
      "  self._setitem_single_block(indexer, value, name)\n"
     ]
    }
   ],
   "source": [
    "df[\"totChol\"].loc[df[\"totChol\"]>425]=df[\"totChol\"].median()"
   ]
  },
  {
   "cell_type": "code",
   "execution_count": 37,
   "id": "dea24179",
   "metadata": {},
   "outputs": [
    {
     "data": {
      "text/plain": [
       "<AxesSubplot:xlabel='sysBP'>"
      ]
     },
     "execution_count": 37,
     "metadata": {},
     "output_type": "execute_result"
    },
    {
     "data": {
      "image/png": "[encoded data removed]",
      "text/plain": [
       "<Figure size 432x288 with 1 Axes>"
      ]
     },
     "metadata": {
      "needs_background": "light"
     },
     "output_type": "display_data"
    }
   ],
   "source": [
    "sb.boxplot(x=\"sysBP\",data=df)"
   ]
  },
  {
   "cell_type": "code",
   "execution_count": 36,
   "id": "84e2af34",
   "metadata": {},
   "outputs": [
    {
     "name": "stderr",
     "output_type": "stream",
     "text": [
      "C:\\Users\\prana\\anaconda3\\lib\\site-packages\\pandas\\core\\indexing.py:1637: SettingWithCopyWarning: \n",
      "A value is trying to be set on a copy of a slice from a DataFrame\n",
      "\n",
      "See the caveats in the documentation: https://pandas.pydata.org/pandas-docs/stable/user_guide/indexing.html#returning-a-view-versus-a-copy\n",
      "  self._setitem_single_block(indexer, value, name)\n"
     ]
    }
   ],
   "source": [
    "df[\"sysBP\"].loc[df[\"sysBP\"]>230]=df[\"sysBP\"].median()"
   ]
  },
  {
   "cell_type": "code",
   "execution_count": 61,
   "id": "c6f49d1a",
   "metadata": {},
   "outputs": [
    {
     "data": {
      "text/plain": [
       "<AxesSubplot:xlabel='diaBP'>"
      ]
     },
     "execution_count": 61,
     "metadata": {},
     "output_type": "execute_result"
    },
    {
     "data": {
      "image/png": "[encoded data removed]",
      "text/plain": [
       "<Figure size 432x288 with 1 Axes>"
      ]
     },
     "metadata": {
      "needs_background": "light"
     },
     "output_type": "display_data"
    }
   ],
   "source": [
    "sb.boxplot(x=\"diaBP\",data=df)"
   ]
  },
  {
   "cell_type": "code",
   "execution_count": 60,
   "id": "327469c6",
   "metadata": {},
   "outputs": [
    {
     "name": "stderr",
     "output_type": "stream",
     "text": [
      "C:\\Users\\prana\\anaconda3\\lib\\site-packages\\pandas\\core\\indexing.py:1637: SettingWithCopyWarning: \n",
      "A value is trying to be set on a copy of a slice from a DataFrame\n",
      "\n",
      "See the caveats in the documentation: https://pandas.pydata.org/pandas-docs/stable/user_guide/indexing.html#returning-a-view-versus-a-copy\n",
      "  self._setitem_single_block(indexer, value, name)\n"
     ]
    }
   ],
   "source": [
    "df[\"diaBP\"].loc[df[\"diaBP\"]>110]=df[\"diaBP\"].median()"
   ]
  },
  {
   "cell_type": "code",
   "execution_count": 58,
   "id": "9664790c",
   "metadata": {},
   "outputs": [
    {
     "data": {
      "text/plain": [
       "<AxesSubplot:xlabel='BMI'>"
      ]
     },
     "execution_count": 58,
     "metadata": {},
     "output_type": "execute_result"
    },
    {
     "data": {
      "image/png": "[encoded data removed]",
      "text/plain": [
       "<Figure size 432x288 with 1 Axes>"
      ]
     },
     "metadata": {
      "needs_background": "light"
     },
     "output_type": "display_data"
    }
   ],
   "source": [
    "sb.boxplot(x=\"BMI\",data=df)"
   ]
  },
  {
   "cell_type": "code",
   "execution_count": 57,
   "id": "636ec6ea",
   "metadata": {},
   "outputs": [
    {
     "name": "stderr",
     "output_type": "stream",
     "text": [
      "C:\\Users\\prana\\anaconda3\\lib\\site-packages\\pandas\\core\\indexing.py:1637: SettingWithCopyWarning: \n",
      "A value is trying to be set on a copy of a slice from a DataFrame\n",
      "\n",
      "See the caveats in the documentation: https://pandas.pydata.org/pandas-docs/stable/user_guide/indexing.html#returning-a-view-versus-a-copy\n",
      "  self._setitem_single_block(indexer, value, name)\n"
     ]
    }
   ],
   "source": [
    "df[\"BMI\"].loc[df[\"BMI\"]>42]=df[\"BMI\"].median()"
   ]
  },
  {
   "cell_type": "code",
   "execution_count": 47,
   "id": "30d804d2",
   "metadata": {},
   "outputs": [
    {
     "data": {
      "text/plain": [
       "<AxesSubplot:xlabel='heartRate'>"
      ]
     },
     "execution_count": 47,
     "metadata": {},
     "output_type": "execute_result"
    },
    {
     "data": {
      "image/png": "[encoded data removed]",
      "text/plain": [
       "<Figure size 432x288 with 1 Axes>"
      ]
     },
     "metadata": {
      "needs_background": "light"
     },
     "output_type": "display_data"
    }
   ],
   "source": [
    "sb.boxplot(x=\"heartRate\",data=df)"
   ]
  },
  {
   "cell_type": "code",
   "execution_count": 46,
   "id": "857bf397",
   "metadata": {},
   "outputs": [
    {
     "name": "stderr",
     "output_type": "stream",
     "text": [
      "C:\\Users\\prana\\anaconda3\\lib\\site-packages\\pandas\\core\\indexing.py:1637: SettingWithCopyWarning: \n",
      "A value is trying to be set on a copy of a slice from a DataFrame\n",
      "\n",
      "See the caveats in the documentation: https://pandas.pydata.org/pandas-docs/stable/user_guide/indexing.html#returning-a-view-versus-a-copy\n",
      "  self._setitem_single_block(indexer, value, name)\n"
     ]
    }
   ],
   "source": [
    "df[\"heartRate\"].loc[df[\"heartRate\"]>100]=df[\"heartRate\"].median()"
   ]
  },
  {
   "cell_type": "code",
   "execution_count": 65,
   "id": "0abef429",
   "metadata": {},
   "outputs": [
    {
     "data": {
      "text/plain": [
       "<AxesSubplot:xlabel='glucose'>"
      ]
     },
     "execution_count": 65,
     "metadata": {},
     "output_type": "execute_result"
    },
    {
     "data": {
      "image/png": "[encoded data removed]",
      "text/plain": [
       "<Figure size 432x288 with 1 Axes>"
      ]
     },
     "metadata": {
      "needs_background": "light"
     },
     "output_type": "display_data"
    }
   ],
   "source": [
    "sb.boxplot(x=\"glucose\",data=df)"
   ]
  },
  {
   "cell_type": "code",
   "execution_count": 64,
   "id": "68a765f5",
   "metadata": {},
   "outputs": [
    {
     "name": "stderr",
     "output_type": "stream",
     "text": [
      "C:\\Users\\prana\\anaconda3\\lib\\site-packages\\pandas\\core\\indexing.py:1637: SettingWithCopyWarning: \n",
      "A value is trying to be set on a copy of a slice from a DataFrame\n",
      "\n",
      "See the caveats in the documentation: https://pandas.pydata.org/pandas-docs/stable/user_guide/indexing.html#returning-a-view-versus-a-copy\n",
      "  self._setitem_single_block(indexer, value, name)\n"
     ]
    }
   ],
   "source": [
    "df[\"glucose\"].loc[df[\"glucose\"]>125]=df[\"glucose\"].median()"
   ]
  },
  {
   "cell_type": "code",
   "execution_count": 48,
   "id": "7bc8e028",
   "metadata": {},
   "outputs": [],
   "source": [
    "x=df.drop(\"TenYearCHD\",axis=1)\n",
    "y=df[\"TenYearCHD\"]"
   ]
  },
  {
   "cell_type": "code",
   "execution_count": 49,
   "id": "5b0f1125",
   "metadata": {},
   "outputs": [],
   "source": [
    "from sklearn.model_selection import train_test_split as tts\n",
    "train_x,test_x,train_y,test_y=tts(x,y,test_size=0.1,random_state=20)"
   ]
  },
  {
   "cell_type": "code",
   "execution_count": 51,
   "id": "158bf6f9",
   "metadata": {},
   "outputs": [
    {
     "data": {
      "text/plain": [
       "(3816, 15)"
      ]
     },
     "execution_count": 51,
     "metadata": {},
     "output_type": "execute_result"
    }
   ],
   "source": [
    "train_x.shape"
   ]
  },
  {
   "cell_type": "code",
   "execution_count": 52,
   "id": "fbd3ede8",
   "metadata": {},
   "outputs": [
    {
     "data": {
      "text/plain": [
       "(424, 15)"
      ]
     },
     "execution_count": 52,
     "metadata": {},
     "output_type": "execute_result"
    }
   ],
   "source": [
    "test_x.shape"
   ]
  },
  {
   "cell_type": "code",
   "execution_count": 66,
   "id": "19e4b46c",
   "metadata": {},
   "outputs": [],
   "source": [
    "score=[]\n",
    "from sklearn.neighbors import KNeighborsClassifier\n",
    "for i in range (1,15,2):\n",
    "    knc=KNeighborsClassifier(n_neighbors=i)\n",
    "    knc.fit(train_x,train_y)\n",
    "    score.append(knc.score(test_x,test_y))"
   ]
  },
  {
   "cell_type": "code",
   "execution_count": 67,
   "id": "b3e948f5",
   "metadata": {},
   "outputs": [
    {
     "data": {
      "text/plain": [
       "[<matplotlib.lines.Line2D at 0x13dde37d970>]"
      ]
     },
     "execution_count": 67,
     "metadata": {},
     "output_type": "execute_result"
    },
    {
     "data": {
      "image/png": "[encoded data removed]",
      "text/plain": [
       "<Figure size 432x288 with 1 Axes>"
      ]
     },
     "metadata": {
      "needs_background": "light"
     },
     "output_type": "display_data"
    }
   ],
   "source": [
    "import matplotlib.pyplot as plt\n",
    "plt.plot(range(1,15,2),score)"
   ]
  },
  {
   "cell_type": "code",
   "execution_count": 68,
   "id": "889043b0",
   "metadata": {},
   "outputs": [
    {
     "data": {
      "text/plain": [
       "0.8254716981132075"
      ]
     },
     "execution_count": 68,
     "metadata": {},
     "output_type": "execute_result"
    }
   ],
   "source": [
    "knc=KNeighborsClassifier(n_neighbors=5)\n",
    "knc.fit(train_x,train_y)\n",
    "knc.score(test_x,test_y)"
   ]
  },
  {
   "cell_type": "code",
   "execution_count": 102,
   "id": "015a98f8",
   "metadata": {},
   "outputs": [
    {
     "name": "stdout",
     "output_type": "stream",
     "text": [
      "Test score = 83.01886792452831 %\n"
     ]
    },
    {
     "name": "stderr",
     "output_type": "stream",
     "text": [
      "C:\\Users\\prana\\anaconda3\\lib\\site-packages\\sklearn\\linear_model\\_logistic.py:763: ConvergenceWarning: lbfgs failed to converge (status=1):\n",
      "STOP: TOTAL NO. of ITERATIONS REACHED LIMIT.\n",
      "\n",
      "Increase the number of iterations (max_iter) or scale the data as shown in:\n",
      "    https://scikit-learn.org/stable/modules/preprocessing.html\n",
      "Please also refer to the documentation for alternative solver options:\n",
      "    https://scikit-learn.org/stable/modules/linear_model.html#logistic-regression\n",
      "  n_iter_i = _check_optimize_result(\n"
     ]
    }
   ],
   "source": [
    "from sklearn.linear_model import LogisticRegression\n",
    "lr=LogisticRegression()\n",
    "lr.fit(train_x,train_y)\n",
    "print(\"Test score =\",100*lr.score(test_x,test_y),\"%\")\n",
    "pred_lr=lr.predict(test_x)\n",
    "pred_lr=pd.DataFrame(pred_lr,columns=[\"pred\"])"
   ]
  },
  {
   "cell_type": "code",
   "execution_count": 106,
   "id": "7437f915",
   "metadata": {},
   "outputs": [
    {
     "name": "stdout",
     "output_type": "stream",
     "text": [
      "test score= 83.49056603773585 %\n"
     ]
    }
   ],
   "source": [
    "from sklearn.tree import DecisionTreeClassifier\n",
    "dt=DecisionTreeClassifier(max_depth=6)\n",
    "dt.fit(train_x,train_y)\n",
    "print(\"test score=\",100*dt.score(test_x,test_y),\"%\")\n",
    "pred_dt=dt.predict(test_x)\n",
    "pred_dt=pd.DataFrame(pred_dt,columns=[\"pred\"])"
   ]
  },
  {
   "cell_type": "code",
   "execution_count": 93,
   "id": "30d2bce4",
   "metadata": {},
   "outputs": [
    {
     "name": "stdout",
     "output_type": "stream",
     "text": [
      "test score= 83.01886792452831 %\n"
     ]
    }
   ],
   "source": [
    "from sklearn.ensemble import RandomForestClassifier\n",
    "rf=RandomForestClassifier(max_depth=6)\n",
    "rf.fit(train_x,train_y)\n",
    "print(\"test score=\",100*rf.score(test_x,test_y),\"%\")\n",
    "pred_rf=rf.predict(test_x)\n",
    "pred_rf=pd.DataFrame(pred_rf,columns=[\"pred\"])"
   ]
  },
  {
   "cell_type": "code",
   "execution_count": 100,
   "id": "48113a20",
   "metadata": {},
   "outputs": [
    {
     "name": "stdout",
     "output_type": "stream",
     "text": [
      "[13:09:12] WARNING: C:/Users/Administrator/workspace/xgboost-win64_release_1.4.0/src/learner.cc:1095: Starting in XGBoost 1.3.0, the default evaluation metric used with the objective 'binary:logistic' was changed from 'error' to 'logloss'. Explicitly set eval_metric if you'd like to restore the old behavior.\n",
      "test score= 83.25471698113208 %\n"
     ]
    },
    {
     "name": "stderr",
     "output_type": "stream",
     "text": [
      "C:\\Users\\prana\\anaconda3\\lib\\site-packages\\xgboost\\sklearn.py:1146: UserWarning: The use of label encoder in XGBClassifier is deprecated and will be removed in a future release. To remove this warning, do the following: 1) Pass option use_label_encoder=False when constructing XGBClassifier object; and 2) Encode your labels (y) as integers starting with 0, i.e. 0, 1, 2, ..., [num_class - 1].\n",
      "  warnings.warn(label_encoder_deprecation_msg, UserWarning)\n"
     ]
    }
   ],
   "source": [
    "from xgboost import XGBClassifier\n",
    "xg=XGBClassifier(max_depth=3)\n",
    "xg.fit(train_x,train_y)\n",
    "print(\"test score=\",100*xg.score(test_x,test_y),\"%\")\n",
    "pred_xg=xg.predict(test_x)\n",
    "pred_xg=pd.DataFrame(pred_xg,columns=[\"pred\"])"
   ]
  },
  {
   "cell_type": "code",
   "execution_count": 103,
   "id": "9273de51",
   "metadata": {},
   "outputs": [],
   "source": [
    "from statistics import mode\n",
    "ensembled_pred=[]\n",
    "for i in range(0,len(test_x)):\n",
    "    ensembled_pred.append(mode([pred_lr[\"pred\"][i],pred_dt[\"pred\"][i],pred_rf[\"pred\"][i],pred_xg[\"pred\"][i]]))"
   ]
  },
  {
   "cell_type": "code",
   "execution_count": 104,
   "id": "52d1b9be",
   "metadata": {},
   "outputs": [
    {
     "data": {
      "text/plain": [
       "0.8325471698113207"
      ]
     },
     "execution_count": 104,
     "metadata": {},
     "output_type": "execute_result"
    }
   ],
   "source": [
    "from sklearn.metrics import accuracy_score\n",
    "accuracy_score(ensembled_pred,test_y)"
   ]
  },
  {
   "cell_type": "code",
   "execution_count": 107,
   "id": "53d517c8",
   "metadata": {},
   "outputs": [],
   "source": [
    "import tensorflow as tf\n",
    "from tensorflow.keras.models import Sequential\n",
    "from tensorflow.keras.layers import Dense,Dropout,Activation\n",
    "from tensorflow.keras.optimizers import Adam"
   ]
  },
  {
   "cell_type": "code",
   "execution_count": 114,
   "id": "950c1bab",
   "metadata": {},
   "outputs": [],
   "source": [
    "cnn=Sequential()\n",
    "\n",
    "cnn.add(Dense(100))\n",
    "cnn.add(Activation(\"relu\"))\n",
    "cnn.add(Dropout(0.5))\n",
    "\n",
    "cnn.add(Dense(100))\n",
    "cnn.add(Activation(\"relu\"))\n",
    "cnn.add(Dropout(0.5))\n",
    "\n",
    "cnn.add(Dense(100))\n",
    "cnn.add(Activation(\"relu\"))\n",
    "cnn.add(Dropout(0.5))\n",
    "\n",
    "cnn.add(Dense(1))\n",
    "cnn.add(Activation(\"sigmoid\"))"
   ]
  },
  {
   "cell_type": "code",
   "execution_count": 116,
   "id": "a59c7acc",
   "metadata": {},
   "outputs": [],
   "source": [
    "cnn.compile(loss=\"categorical_crossentropy\",optimizer=\"adam\",metrics=[\"accuracy\"])"
   ]
  },
  {
   "cell_type": "code",
   "execution_count": 117,
   "id": "098cdad2",
   "metadata": {},
   "outputs": [
    {
     "name": "stdout",
     "output_type": "stream",
     "text": [
      "Epoch 1/100\n",
      "30/30 [==============================] - 1s 4ms/step - loss: 0.0000e+00 - accuracy: 0.8181\n",
      "Epoch 2/100\n",
      "30/30 [==============================] - 0s 4ms/step - loss: 0.0000e+00 - accuracy: 0.8504\n",
      "Epoch 3/100\n",
      "30/30 [==============================] - 0s 4ms/step - loss: 0.0000e+00 - accuracy: 0.8504\n",
      "Epoch 4/100\n",
      "30/30 [==============================] - 0s 4ms/step - loss: 0.0000e+00 - accuracy: 0.8504\n",
      "Epoch 5/100\n",
      "30/30 [==============================] - 0s 4ms/step - loss: 0.0000e+00 - accuracy: 0.8504\n",
      "Epoch 6/100\n",
      "30/30 [==============================] - 0s 4ms/step - loss: 0.0000e+00 - accuracy: 0.8504\n",
      "Epoch 7/100\n",
      "30/30 [==============================] - 0s 4ms/step - loss: 0.0000e+00 - accuracy: 0.8504\n",
      "Epoch 8/100\n",
      "30/30 [==============================] - 0s 4ms/step - loss: 0.0000e+00 - accuracy: 0.8504\n",
      "Epoch 9/100\n",
      "30/30 [==============================] - 0s 4ms/step - loss: 0.0000e+00 - accuracy: 0.8504\n",
      "Epoch 10/100\n",
      "30/30 [==============================] - 0s 5ms/step - loss: 0.0000e+00 - accuracy: 0.8504\n",
      "Epoch 11/100\n",
      "30/30 [==============================] - 0s 4ms/step - loss: 0.0000e+00 - accuracy: 0.8504\n",
      "Epoch 12/100\n",
      "30/30 [==============================] - 0s 4ms/step - loss: 0.0000e+00 - accuracy: 0.8504\n",
      "Epoch 13/100\n",
      "30/30 [==============================] - 0s 5ms/step - loss: 0.0000e+00 - accuracy: 0.8504\n",
      "Epoch 14/100\n",
      "30/30 [==============================] - 0s 4ms/step - loss: 0.0000e+00 - accuracy: 0.8504\n",
      "Epoch 15/100\n",
      "30/30 [==============================] - 0s 4ms/step - loss: 0.0000e+00 - accuracy: 0.8504\n",
      "Epoch 16/100\n",
      "30/30 [==============================] - 0s 4ms/step - loss: 0.0000e+00 - accuracy: 0.8504\n",
      "Epoch 17/100\n",
      "30/30 [==============================] - 0s 4ms/step - loss: 0.0000e+00 - accuracy: 0.8504\n",
      "Epoch 18/100\n",
      "30/30 [==============================] - 0s 4ms/step - loss: 0.0000e+00 - accuracy: 0.8504\n",
      "Epoch 19/100\n",
      "30/30 [==============================] - 0s 5ms/step - loss: 0.0000e+00 - accuracy: 0.8504\n",
      "Epoch 20/100\n",
      "30/30 [==============================] - 0s 4ms/step - loss: 0.0000e+00 - accuracy: 0.8504\n",
      "Epoch 21/100\n",
      "30/30 [==============================] - 0s 4ms/step - loss: 0.0000e+00 - accuracy: 0.8504\n",
      "Epoch 22/100\n",
      "30/30 [==============================] - 0s 4ms/step - loss: 0.0000e+00 - accuracy: 0.8504\n",
      "Epoch 23/100\n",
      "30/30 [==============================] - 0s 4ms/step - loss: 0.0000e+00 - accuracy: 0.8504\n",
      "Epoch 24/100\n",
      "30/30 [==============================] - 0s 4ms/step - loss: 0.0000e+00 - accuracy: 0.8504\n",
      "Epoch 25/100\n",
      "30/30 [==============================] - 0s 4ms/step - loss: 0.0000e+00 - accuracy: 0.8504\n",
      "Epoch 26/100\n",
      "30/30 [==============================] - 0s 4ms/step - loss: 0.0000e+00 - accuracy: 0.8504\n",
      "Epoch 27/100\n",
      "30/30 [==============================] - 0s 5ms/step - loss: 0.0000e+00 - accuracy: 0.8504\n",
      "Epoch 28/100\n",
      "30/30 [==============================] - 0s 4ms/step - loss: 0.0000e+00 - accuracy: 0.8504\n",
      "Epoch 29/100\n",
      "30/30 [==============================] - 0s 4ms/step - loss: 0.0000e+00 - accuracy: 0.8504\n",
      "Epoch 30/100\n",
      "30/30 [==============================] - 0s 4ms/step - loss: 0.0000e+00 - accuracy: 0.8504\n",
      "Epoch 31/100\n",
      "30/30 [==============================] - 0s 4ms/step - loss: 0.0000e+00 - accuracy: 0.8504\n",
      "Epoch 32/100\n",
      "30/30 [==============================] - 0s 4ms/step - loss: 0.0000e+00 - accuracy: 0.8504\n",
      "Epoch 33/100\n",
      "30/30 [==============================] - 0s 4ms/step - loss: 0.0000e+00 - accuracy: 0.8504\n",
      "Epoch 34/100\n",
      "30/30 [==============================] - 0s 4ms/step - loss: 0.0000e+00 - accuracy: 0.8504\n",
      "Epoch 35/100\n",
      "30/30 [==============================] - 0s 3ms/step - loss: 0.0000e+00 - accuracy: 0.8504\n",
      "Epoch 36/100\n",
      "30/30 [==============================] - 0s 4ms/step - loss: 0.0000e+00 - accuracy: 0.8504\n",
      "Epoch 37/100\n",
      "30/30 [==============================] - 0s 4ms/step - loss: 0.0000e+00 - accuracy: 0.8504\n",
      "Epoch 38/100\n",
      "30/30 [==============================] - 0s 4ms/step - loss: 0.0000e+00 - accuracy: 0.8504\n",
      "Epoch 39/100\n",
      "30/30 [==============================] - 0s 4ms/step - loss: 0.0000e+00 - accuracy: 0.8504\n",
      "Epoch 40/100\n",
      "30/30 [==============================] - 0s 5ms/step - loss: 0.0000e+00 - accuracy: 0.8504\n",
      "Epoch 41/100\n",
      "30/30 [==============================] - 0s 4ms/step - loss: 0.0000e+00 - accuracy: 0.8504\n",
      "Epoch 42/100\n",
      "30/30 [==============================] - 0s 4ms/step - loss: 0.0000e+00 - accuracy: 0.8504\n",
      "Epoch 43/100\n",
      "30/30 [==============================] - 0s 4ms/step - loss: 0.0000e+00 - accuracy: 0.8504\n",
      "Epoch 44/100\n",
      "30/30 [==============================] - 0s 4ms/step - loss: 0.0000e+00 - accuracy: 0.8504\n",
      "Epoch 45/100\n",
      "30/30 [==============================] - 0s 4ms/step - loss: 0.0000e+00 - accuracy: 0.8504\n",
      "Epoch 46/100\n",
      "30/30 [==============================] - 0s 4ms/step - loss: 0.0000e+00 - accuracy: 0.8504\n",
      "Epoch 47/100\n",
      "30/30 [==============================] - 0s 4ms/step - loss: 0.0000e+00 - accuracy: 0.8504\n",
      "Epoch 48/100\n",
      "30/30 [==============================] - 0s 4ms/step - loss: 0.0000e+00 - accuracy: 0.8504\n",
      "Epoch 49/100\n",
      "30/30 [==============================] - 0s 5ms/step - loss: 0.0000e+00 - accuracy: 0.8504\n",
      "Epoch 50/100\n",
      "30/30 [==============================] - 0s 4ms/step - loss: 0.0000e+00 - accuracy: 0.8504\n",
      "Epoch 51/100\n",
      "30/30 [==============================] - 0s 4ms/step - loss: 0.0000e+00 - accuracy: 0.8504\n",
      "Epoch 52/100\n",
      "30/30 [==============================] - 0s 4ms/step - loss: 0.0000e+00 - accuracy: 0.8504\n",
      "Epoch 53/100\n",
      "30/30 [==============================] - 0s 4ms/step - loss: 0.0000e+00 - accuracy: 0.8504\n",
      "Epoch 54/100\n",
      "30/30 [==============================] - 0s 4ms/step - loss: 0.0000e+00 - accuracy: 0.8504\n",
      "Epoch 55/100\n",
      "30/30 [==============================] - 0s 4ms/step - loss: 0.0000e+00 - accuracy: 0.8504\n",
      "Epoch 56/100\n",
      "30/30 [==============================] - 0s 4ms/step - loss: 0.0000e+00 - accuracy: 0.8504\n",
      "Epoch 57/100\n",
      "30/30 [==============================] - 0s 4ms/step - loss: 0.0000e+00 - accuracy: 0.8504\n",
      "Epoch 58/100\n",
      "30/30 [==============================] - 0s 4ms/step - loss: 0.0000e+00 - accuracy: 0.8504\n",
      "Epoch 59/100\n",
      "30/30 [==============================] - 0s 4ms/step - loss: 0.0000e+00 - accuracy: 0.8504\n",
      "Epoch 60/100\n",
      "30/30 [==============================] - 0s 4ms/step - loss: 0.0000e+00 - accuracy: 0.8504\n",
      "Epoch 61/100\n",
      "30/30 [==============================] - 0s 4ms/step - loss: 0.0000e+00 - accuracy: 0.8504\n",
      "Epoch 62/100\n",
      "30/30 [==============================] - 0s 4ms/step - loss: 0.0000e+00 - accuracy: 0.8504\n",
      "Epoch 63/100\n",
      "30/30 [==============================] - 0s 4ms/step - loss: 0.0000e+00 - accuracy: 0.8504\n",
      "Epoch 64/100\n",
      "30/30 [==============================] - 0s 4ms/step - loss: 0.0000e+00 - accuracy: 0.8504\n",
      "Epoch 65/100\n",
      "30/30 [==============================] - 0s 5ms/step - loss: 0.0000e+00 - accuracy: 0.8504\n",
      "Epoch 66/100\n",
      "30/30 [==============================] - 0s 4ms/step - loss: 0.0000e+00 - accuracy: 0.8504\n",
      "Epoch 67/100\n",
      "30/30 [==============================] - 0s 4ms/step - loss: 0.0000e+00 - accuracy: 0.8504\n",
      "Epoch 68/100\n",
      "30/30 [==============================] - 0s 4ms/step - loss: 0.0000e+00 - accuracy: 0.8504\n",
      "Epoch 69/100\n",
      "30/30 [==============================] - 0s 4ms/step - loss: 0.0000e+00 - accuracy: 0.8504\n",
      "Epoch 70/100\n",
      "30/30 [==============================] - 0s 4ms/step - loss: 0.0000e+00 - accuracy: 0.8504\n",
      "Epoch 71/100\n",
      "30/30 [==============================] - 0s 4ms/step - loss: 0.0000e+00 - accuracy: 0.8504\n",
      "Epoch 72/100\n",
      "30/30 [==============================] - 0s 4ms/step - loss: 0.0000e+00 - accuracy: 0.8504\n",
      "Epoch 73/100\n",
      "30/30 [==============================] - 0s 4ms/step - loss: 0.0000e+00 - accuracy: 0.8504\n",
      "Epoch 74/100\n",
      "30/30 [==============================] - 0s 4ms/step - loss: 0.0000e+00 - accuracy: 0.8504\n",
      "Epoch 75/100\n",
      "30/30 [==============================] - 0s 3ms/step - loss: 0.0000e+00 - accuracy: 0.8504\n",
      "Epoch 76/100\n",
      "30/30 [==============================] - 0s 4ms/step - loss: 0.0000e+00 - accuracy: 0.8504\n",
      "Epoch 77/100\n",
      "30/30 [==============================] - 0s 4ms/step - loss: 0.0000e+00 - accuracy: 0.8504\n",
      "Epoch 78/100\n",
      "30/30 [==============================] - 0s 4ms/step - loss: 0.0000e+00 - accuracy: 0.8504\n",
      "Epoch 79/100\n"
     ]
    },
    {
     "name": "stdout",
     "output_type": "stream",
     "text": [
      "30/30 [==============================] - 0s 4ms/step - loss: 0.0000e+00 - accuracy: 0.8504\n",
      "Epoch 80/100\n",
      "30/30 [==============================] - 0s 4ms/step - loss: 0.0000e+00 - accuracy: 0.8504\n",
      "Epoch 81/100\n",
      "30/30 [==============================] - 0s 4ms/step - loss: 0.0000e+00 - accuracy: 0.8504\n",
      "Epoch 82/100\n",
      "30/30 [==============================] - 0s 4ms/step - loss: 0.0000e+00 - accuracy: 0.8504\n",
      "Epoch 83/100\n",
      "30/30 [==============================] - 0s 4ms/step - loss: 0.0000e+00 - accuracy: 0.8504\n",
      "Epoch 84/100\n",
      "30/30 [==============================] - 0s 4ms/step - loss: 0.0000e+00 - accuracy: 0.8504\n",
      "Epoch 85/100\n",
      "30/30 [==============================] - 0s 4ms/step - loss: 0.0000e+00 - accuracy: 0.8504\n",
      "Epoch 86/100\n",
      "30/30 [==============================] - 0s 4ms/step - loss: 0.0000e+00 - accuracy: 0.8504\n",
      "Epoch 87/100\n",
      "30/30 [==============================] - 0s 4ms/step - loss: 0.0000e+00 - accuracy: 0.8504\n",
      "Epoch 88/100\n",
      "30/30 [==============================] - 0s 4ms/step - loss: 0.0000e+00 - accuracy: 0.8504\n",
      "Epoch 89/100\n",
      "30/30 [==============================] - 0s 4ms/step - loss: 0.0000e+00 - accuracy: 0.8504\n",
      "Epoch 90/100\n",
      "30/30 [==============================] - 0s 4ms/step - loss: 0.0000e+00 - accuracy: 0.8504\n",
      "Epoch 91/100\n",
      "30/30 [==============================] - 0s 4ms/step - loss: 0.0000e+00 - accuracy: 0.8504\n",
      "Epoch 92/100\n",
      "30/30 [==============================] - 0s 4ms/step - loss: 0.0000e+00 - accuracy: 0.8504\n",
      "Epoch 93/100\n",
      "30/30 [==============================] - 0s 5ms/step - loss: 0.0000e+00 - accuracy: 0.8504\n",
      "Epoch 94/100\n",
      "30/30 [==============================] - 0s 4ms/step - loss: 0.0000e+00 - accuracy: 0.8504\n",
      "Epoch 95/100\n",
      "30/30 [==============================] - 0s 4ms/step - loss: 0.0000e+00 - accuracy: 0.8504\n",
      "Epoch 96/100\n",
      "30/30 [==============================] - 0s 4ms/step - loss: 0.0000e+00 - accuracy: 0.8504\n",
      "Epoch 97/100\n",
      "30/30 [==============================] - 0s 4ms/step - loss: 0.0000e+00 - accuracy: 0.8504\n",
      "Epoch 98/100\n",
      "30/30 [==============================] - 0s 4ms/step - loss: 0.0000e+00 - accuracy: 0.8504\n",
      "Epoch 99/100\n",
      "30/30 [==============================] - 0s 4ms/step - loss: 0.0000e+00 - accuracy: 0.8504\n",
      "Epoch 100/100\n",
      "30/30 [==============================] - 0s 4ms/step - loss: 0.0000e+00 - accuracy: 0.8504\n"
     ]
    },
    {
     "data": {
      "text/plain": [
       "<tensorflow.python.keras.callbacks.History at 0x13decf48be0>"
      ]
     },
     "execution_count": 117,
     "metadata": {},
     "output_type": "execute_result"
    }
   ],
   "source": [
    "cnn.fit(train_x,train_y,batch_size=128,epochs=100)"
   ]
  },
  {
   "cell_type": "code",
   "execution_count": 118,
   "id": "66e05638",
   "metadata": {},
   "outputs": [],
   "source": [
    "pred_cnn=cnn.predict(test_x)"
   ]
  },
  {
   "cell_type": "code",
   "execution_count": 120,
   "id": "f24814d0",
   "metadata": {},
   "outputs": [],
   "source": [
    "pred_cnn=pd.DataFrame(pred_cnn,columns=['pred'])\n",
    "pred_cnn['pred']=pred_cnn['pred'].apply(lambda x:0 if x<0.5 else 1)"
   ]
  },
  {
   "cell_type": "code",
   "execution_count": 121,
   "id": "26a8eac1",
   "metadata": {},
   "outputs": [
    {
     "data": {
      "text/plain": [
       "0.8278301886792453"
      ]
     },
     "execution_count": 121,
     "metadata": {},
     "output_type": "execute_result"
    }
   ],
   "source": [
    "accuracy_score(pred_cnn,test_y)"
   ]
  },
  {
   "cell_type": "code",
   "execution_count": null,
   "id": "a8d484ba",
   "metadata": {},
   "outputs": [],
   "source": []
  }
 ],
 "metadata": {
  "kernelspec": {
   "display_name": "Python 3",
   "language": "python",
   "name": "python3"
  },
  "language_info": {
   "codemirror_mode": {
    "name": "ipython",
    "version": 3
   },
   "file_extension": ".py",
   "mimetype": "text/x-python",
   "name": "python",
   "nbconvert_exporter": "python",
   "pygments_lexer": "ipython3",
   "version": "3.8.8"
  }
 },
 "nbformat": 4,
 "nbformat_minor": 5
}
